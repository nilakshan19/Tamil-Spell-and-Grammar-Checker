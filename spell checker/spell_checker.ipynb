{
  "nbformat": 4,
  "nbformat_minor": 0,
  "metadata": {
    "colab": {
      "provenance": []
    },
    "kernelspec": {
      "name": "python3",
      "display_name": "Python 3"
    },
    "language_info": {
      "name": "python"
    }
  },
  "cells": [
    {
      "source": [
        "# Import the necessary library to use the drive object\n",
        "from google.colab import drive\n",
        "\n",
        "# Mount Google Drive\n",
        "drive.mount('/content/drive')"
      ],
      "cell_type": "code",
      "metadata": {
        "colab": {
          "base_uri": "https://localhost:8080/"
        },
        "id": "ErO5nMNtiT9B",
        "outputId": "970c2ec3-4a7f-4ced-ea4d-8637702cc734"
      },
      "execution_count": 3,
      "outputs": [
        {
          "output_type": "stream",
          "name": "stdout",
          "text": [
            "Mounted at /content/drive\n"
          ]
        }
      ]
    },
    {
      "cell_type": "code",
      "source": [
        "# Install necessary libraries\n",
        "!pip install spellchecker"
      ],
      "metadata": {
        "colab": {
          "base_uri": "https://localhost:8080/"
        },
        "id": "y2pL60mUlRvs",
        "outputId": "5b204caa-4e15-4770-feec-4a853acfd246"
      },
      "execution_count": 7,
      "outputs": [
        {
          "output_type": "stream",
          "name": "stdout",
          "text": [
            "Requirement already satisfied: spellchecker in /usr/local/lib/python3.10/dist-packages (0.4)\n",
            "Requirement already satisfied: setuptools in /usr/local/lib/python3.10/dist-packages (from spellchecker) (75.1.0)\n",
            "Requirement already satisfied: inexactsearch in /usr/local/lib/python3.10/dist-packages (from spellchecker) (1.0.2)\n",
            "Requirement already satisfied: soundex>=1.0 in /usr/local/lib/python3.10/dist-packages (from inexactsearch->spellchecker) (1.1.3)\n",
            "Requirement already satisfied: silpa-common>=0.3 in /usr/local/lib/python3.10/dist-packages (from inexactsearch->spellchecker) (0.3)\n"
          ]
        }
      ]
    },
    {
      "source": [
        "!pip install pyspellchecker # Install the correct spellchecker library\n",
        "\n",
        "# Import libraries\n",
        "from spellchecker import SpellChecker # Import the SpellChecker class from pyspellchecker\n",
        "from google.colab import drive\n",
        "\n"
      ],
      "cell_type": "code",
      "metadata": {
        "colab": {
          "base_uri": "https://localhost:8080/"
        },
        "id": "hRB0PHTTlyhd",
        "outputId": "67371394-e0c2-4eca-d2e7-ccf764021aca"
      },
      "execution_count": 10,
      "outputs": [
        {
          "output_type": "stream",
          "name": "stdout",
          "text": [
            "Collecting pyspellchecker\n",
            "  Downloading pyspellchecker-0.8.2-py3-none-any.whl.metadata (9.4 kB)\n",
            "Downloading pyspellchecker-0.8.2-py3-none-any.whl (7.1 MB)\n",
            "\u001b[2K   \u001b[90m━━━━━━━━━━━━━━━━━━━━━━━━━━━━━━━━━━━━━━━━\u001b[0m \u001b[32m7.1/7.1 MB\u001b[0m \u001b[31m37.3 MB/s\u001b[0m eta \u001b[36m0:00:00\u001b[0m\n",
            "\u001b[?25hInstalling collected packages: pyspellchecker\n",
            "Successfully installed pyspellchecker-0.8.2\n"
          ]
        }
      ]
    },
    {
      "cell_type": "code",
      "source": [
        "\n",
        "# Define the SpellChecker class\n",
        "def correct_text(test_sentence, correct_words):\n",
        "    \"\"\"Corrects the given text using a custom dictionary of correct words.\"\"\"\n",
        "    # Initialize the SpellChecker with correct words\n",
        "    spell_checker = SpellChecker()\n",
        "    spell_checker.word_frequency.load_words(correct_words)\n",
        "\n",
        "    # Correct the input sentence and track changes\n",
        "    words = test_sentence.split()\n",
        "    corrected_words = []\n",
        "    corrected_items = []  # To store words that were corrected\n",
        "\n",
        "    for word in words:\n",
        "        corrected_word = spell_checker.correction(word)\n",
        "        corrected_words.append(corrected_word)\n",
        "        if corrected_word != word:\n",
        "            corrected_items.append((word, corrected_word))\n",
        "\n",
        "    corrected_text = \" \".join(corrected_words)\n",
        "    return corrected_text, corrected_items\n",
        "\n",
        "# Load the correct dataset\n",
        "correct_dataset_file = \"/content/drive/MyDrive/spell checker/dataset.txt\"\n",
        "with open(correct_dataset_file, 'r', encoding='utf-8') as file:\n",
        "    correct_sentences = [line.strip() for line in file]\n",
        "    correct_words = set(word for sentence in correct_sentences for word in sentence.split())\n",
        "\n",
        "# Define a list of incorrect sentences for testing\n",
        "wrong_sentences = [\n",
        "    \"மழை பெய்யும் காலத்தில் பசுமையான இயற்கை சூழலில மநிதர்கள் மகிழ்ச்சியுடன் இயற்கையின் அழகை ரசிகின்றனர்.\",\n",
        "    \"சூரியன் ஒளி தளர்வதால மாலை நேரத்தில கோபுரங்களின் மேல அழகாக வானவில தோன்றி பரந்த மகிழ்சியை ஏற்படுத்திகிறது.\",\n",
        "    \"பனிக்கட்டிகள் உருகி சூழலை ஈரமாக்கிகின்றன.\",\n",
        "    \"வானத்தில் ஒளிரும் நட்சத்திரங்கள், பறக்கும் வெளி மேகங்கள், அவற்றின் கீழ அமைதியாக நடக்கும் மநிதர்கள் எல்லாம் மநதை கவர்கின்றன.\",\n",
        "    \"கதிரவன் உதிக்கும் காலையில் பறவைகள் குரலுடன் வானத்த தோய்க்கும், இயற்கையின் அழகு ஒவ்வொரு மநதையும் மகிழ்ச்சியுட நிரப்பிகிறது.\"\n",
        "]\n",
        "\n",
        "# Compare and correct sentences\n",
        "for idx, wrong_sentence in enumerate(wrong_sentences):\n",
        "    print(f\"\\n--- Sentence {idx+1} ---\")\n",
        "    print(f\"Given Sentence: {wrong_sentence}\")\n",
        "\n",
        "    # Correct the wrong sentence and get the corrected words\n",
        "    corrected_sentence, corrected_items = correct_text(wrong_sentence, correct_words)\n",
        "\n",
        "    # Print the corrected sentence\n",
        "    print(f\"Corrected Sentence: {corrected_sentence}\")\n",
        "\n",
        "    # Print the words that were corrected\n",
        "    if corrected_items:\n",
        "        print(\"Corrected Words:\")\n",
        "        for original, corrected in corrected_items:\n",
        "            print(f\"  - {original} -> {corrected}\")\n",
        "    else:\n",
        "        print(\"No corrections needed.\")\n"
      ],
      "metadata": {
        "colab": {
          "base_uri": "https://localhost:8080/"
        },
        "id": "1WfvOZ5RnLMF",
        "outputId": "448ab0a9-34a6-4743-a908-60705809d4b8"
      },
      "execution_count": 14,
      "outputs": [
        {
          "output_type": "stream",
          "name": "stdout",
          "text": [
            "\n",
            "--- Sentence 1 ---\n",
            "Given Sentence: மழை பெய்யும் காலத்தில் பசுமையான இயற்கை சூழலில மநிதர்கள் மகிழ்ச்சியுடன் இயற்கையின் அழகை ரசிகின்றனர்.\n",
            "Corrected Sentence: மழை பெய்யும் காலத்தில் பசுமையான இயற்கை சூழலில் மனிதர்கள் மகிழ்ச்சியுடன் இயற்கையின் அழகை ரசிக்கின்றனர்.\n",
            "Corrected Words:\n",
            "  - சூழலில -> சூழலில்\n",
            "  - மநிதர்கள் -> மனிதர்கள்\n",
            "  - ரசிகின்றனர். -> ரசிக்கின்றனர்.\n",
            "\n",
            "--- Sentence 2 ---\n",
            "Given Sentence: சூரியன் ஒளி தளர்வதால மாலை நேரத்தில கோபுரங்களின் மேல அழகாக வானவில தோன்றி பரந்த மகிழ்சியை ஏற்படுத்திகிறது.\n",
            "Corrected Sentence: சூரியன் ஒளி தளர்வதால் மாலை நேரத்தில் கோபுரங்களின் மேல் அழகாக வானவில் தோன்றி பரந்த மகிழ்ச்சியை ஏற்படுத்துகிறது\n",
            "Corrected Words:\n",
            "  - தளர்வதால -> தளர்வதால்\n",
            "  - நேரத்தில -> நேரத்தில்\n",
            "  - மேல -> மேல்\n",
            "  - வானவில -> வானவில்\n",
            "  - மகிழ்சியை -> மகிழ்ச்சியை\n",
            "  - ஏற்படுத்திகிறது. -> ஏற்படுத்துகிறது\n",
            "\n",
            "--- Sentence 3 ---\n",
            "Given Sentence: பனிக்கட்டிகள் உருகி சூழலை ஈரமாக்கிகின்றன.\n",
            "Corrected Sentence: பனிக்கட்டிகள் உருகி சூழலை ஈரமாக்குகின்றன\n",
            "Corrected Words:\n",
            "  - ஈரமாக்கிகின்றன. -> ஈரமாக்குகின்றன\n",
            "\n",
            "--- Sentence 4 ---\n",
            "Given Sentence: வானத்தில் ஒளிரும் நட்சத்திரங்கள், பறக்கும் வெளி மேகங்கள், அவற்றின் கீழ அமைதியாக நடக்கும் மநிதர்கள் எல்லாம் மநதை கவர்கின்றன.\n",
            "Corrected Sentence: வானத்தில் ஒளிரும் நட்சத்திரங்கள், பறக்கும் ஒளி மேகங்கள், அவற்றின் கீழ் அமைதியாக நடக்கும் மனிதர்கள் எல்லாம் மனதை கவர்கின்றன\n",
            "Corrected Words:\n",
            "  - வெளி -> ஒளி\n",
            "  - கீழ -> கீழ்\n",
            "  - மநிதர்கள் -> மனிதர்கள்\n",
            "  - மநதை -> மனதை\n",
            "  - கவர்கின்றன. -> கவர்கின்றன\n",
            "\n",
            "--- Sentence 5 ---\n",
            "Given Sentence: கதிரவன் உதிக்கும் காலையில் பறவைகள் குரலுடன் வானத்த தோய்க்கும், இயற்கையின் அழகு ஒவ்வொரு மநதையும் மகிழ்ச்சியுட நிரப்பிகிறது.\n",
            "Corrected Sentence: கதிரவன் உதிக்கும் காலையில் பறவைகள் குரலுடன் வானத்தை தோய்க்கும், இயற்கையின் அழகு ஒவ்வொரு மனதையும் மகிழ்ச்சியுடன் நிரப்புகிறது.\n",
            "Corrected Words:\n",
            "  - வானத்த -> வானத்தை\n",
            "  - மநதையும் -> மனதையும்\n",
            "  - மகிழ்ச்சியுட -> மகிழ்ச்சியுடன்\n",
            "  - நிரப்பிகிறது. -> நிரப்புகிறது.\n"
          ]
        }
      ]
    }
  ]
}